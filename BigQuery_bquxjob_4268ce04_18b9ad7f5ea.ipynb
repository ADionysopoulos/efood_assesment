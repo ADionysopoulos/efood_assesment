{
  "cells": [
    {
      "cell_type": "markdown",
      "metadata": {
        "id": "view-in-github",
        "colab_type": "text"
      },
      "source": [
        "<a href=\"https://colab.research.google.com/github/ADionysopoulos/efood_assesment/blob/main/BigQuery_bquxjob_4268ce04_18b9ad7f5ea.ipynb\" target=\"_parent\"><img src=\"https://colab.research.google.com/assets/colab-badge.svg\" alt=\"Open In Colab\"/></a>"
      ]
    },
    {
      "cell_type": "code",
      "execution_count": 1,
      "metadata": {
        "id": "w6MmeBUBJ-9E",
        "colab": {
          "base_uri": "https://localhost:8080/",
          "height": 366
        },
        "outputId": "6828703b-7f30-4ba7-ebd6-7590e3e2b752"
      },
      "outputs": [
        {
          "output_type": "error",
          "ename": "MessageError",
          "evalue": "ignored",
          "traceback": [
            "\u001b[0;31m---------------------------------------------------------------------------\u001b[0m",
            "\u001b[0;31mMessageError\u001b[0m                              Traceback (most recent call last)",
            "\u001b[0;32m<ipython-input-1-62abfb8a549d>\u001b[0m in \u001b[0;36m<cell line: 13>\u001b[0;34m()\u001b[0m\n\u001b[1;32m     11\u001b[0m \u001b[0mclient\u001b[0m \u001b[0;34m=\u001b[0m \u001b[0mbigquery\u001b[0m\u001b[0;34m.\u001b[0m\u001b[0mClient\u001b[0m\u001b[0;34m(\u001b[0m\u001b[0mproject\u001b[0m\u001b[0;34m=\u001b[0m\u001b[0mproject\u001b[0m\u001b[0;34m,\u001b[0m \u001b[0mlocation\u001b[0m\u001b[0;34m=\u001b[0m\u001b[0mlocation\u001b[0m\u001b[0;34m)\u001b[0m\u001b[0;34m\u001b[0m\u001b[0;34m\u001b[0m\u001b[0m\n\u001b[1;32m     12\u001b[0m \u001b[0mdata_table\u001b[0m\u001b[0;34m.\u001b[0m\u001b[0menable_dataframe_formatter\u001b[0m\u001b[0;34m(\u001b[0m\u001b[0;34m)\u001b[0m\u001b[0;34m\u001b[0m\u001b[0;34m\u001b[0m\u001b[0m\n\u001b[0;32m---> 13\u001b[0;31m \u001b[0mauth\u001b[0m\u001b[0;34m.\u001b[0m\u001b[0mauthenticate_user\u001b[0m\u001b[0;34m(\u001b[0m\u001b[0;34m)\u001b[0m\u001b[0;34m\u001b[0m\u001b[0;34m\u001b[0m\u001b[0m\n\u001b[0m",
            "\u001b[0;32m/usr/local/lib/python3.10/dist-packages/google/colab/auth.py\u001b[0m in \u001b[0;36mauthenticate_user\u001b[0;34m(clear_output, project_id)\u001b[0m\n\u001b[1;32m    279\u001b[0m   \u001b[0;32mif\u001b[0m \u001b[0;32mnot\u001b[0m \u001b[0m_check_adc\u001b[0m\u001b[0;34m(\u001b[0m\u001b[0m_CredentialType\u001b[0m\u001b[0;34m.\u001b[0m\u001b[0mUSER\u001b[0m\u001b[0;34m)\u001b[0m\u001b[0;34m:\u001b[0m\u001b[0;34m\u001b[0m\u001b[0;34m\u001b[0m\u001b[0m\n\u001b[1;32m    280\u001b[0m     \u001b[0;32mif\u001b[0m \u001b[0muse_auth_ephem\u001b[0m\u001b[0;34m:\u001b[0m\u001b[0;34m\u001b[0m\u001b[0;34m\u001b[0m\u001b[0m\n\u001b[0;32m--> 281\u001b[0;31m       _message.blocking_request(\n\u001b[0m\u001b[1;32m    282\u001b[0m           \u001b[0;34m'request_auth'\u001b[0m\u001b[0;34m,\u001b[0m\u001b[0;34m\u001b[0m\u001b[0;34m\u001b[0m\u001b[0m\n\u001b[1;32m    283\u001b[0m           \u001b[0mrequest\u001b[0m\u001b[0;34m=\u001b[0m\u001b[0;34m{\u001b[0m\u001b[0;34m'authType'\u001b[0m\u001b[0;34m:\u001b[0m \u001b[0;34m'auth_user_ephemeral'\u001b[0m\u001b[0;34m}\u001b[0m\u001b[0;34m,\u001b[0m\u001b[0;34m\u001b[0m\u001b[0;34m\u001b[0m\u001b[0m\n",
            "\u001b[0;32m/usr/local/lib/python3.10/dist-packages/google/colab/_message.py\u001b[0m in \u001b[0;36mblocking_request\u001b[0;34m(request_type, request, timeout_sec, parent)\u001b[0m\n\u001b[1;32m    174\u001b[0m       \u001b[0mrequest_type\u001b[0m\u001b[0;34m,\u001b[0m \u001b[0mrequest\u001b[0m\u001b[0;34m,\u001b[0m \u001b[0mparent\u001b[0m\u001b[0;34m=\u001b[0m\u001b[0mparent\u001b[0m\u001b[0;34m,\u001b[0m \u001b[0mexpect_reply\u001b[0m\u001b[0;34m=\u001b[0m\u001b[0;32mTrue\u001b[0m\u001b[0;34m\u001b[0m\u001b[0;34m\u001b[0m\u001b[0m\n\u001b[1;32m    175\u001b[0m   )\n\u001b[0;32m--> 176\u001b[0;31m   \u001b[0;32mreturn\u001b[0m \u001b[0mread_reply_from_input\u001b[0m\u001b[0;34m(\u001b[0m\u001b[0mrequest_id\u001b[0m\u001b[0;34m,\u001b[0m \u001b[0mtimeout_sec\u001b[0m\u001b[0;34m)\u001b[0m\u001b[0;34m\u001b[0m\u001b[0;34m\u001b[0m\u001b[0m\n\u001b[0m",
            "\u001b[0;32m/usr/local/lib/python3.10/dist-packages/google/colab/_message.py\u001b[0m in \u001b[0;36mread_reply_from_input\u001b[0;34m(message_id, timeout_sec)\u001b[0m\n\u001b[1;32m    101\u001b[0m     ):\n\u001b[1;32m    102\u001b[0m       \u001b[0;32mif\u001b[0m \u001b[0;34m'error'\u001b[0m \u001b[0;32min\u001b[0m \u001b[0mreply\u001b[0m\u001b[0;34m:\u001b[0m\u001b[0;34m\u001b[0m\u001b[0;34m\u001b[0m\u001b[0m\n\u001b[0;32m--> 103\u001b[0;31m         \u001b[0;32mraise\u001b[0m \u001b[0mMessageError\u001b[0m\u001b[0;34m(\u001b[0m\u001b[0mreply\u001b[0m\u001b[0;34m[\u001b[0m\u001b[0;34m'error'\u001b[0m\u001b[0;34m]\u001b[0m\u001b[0;34m)\u001b[0m\u001b[0;34m\u001b[0m\u001b[0;34m\u001b[0m\u001b[0m\n\u001b[0m\u001b[1;32m    104\u001b[0m       \u001b[0;32mreturn\u001b[0m \u001b[0mreply\u001b[0m\u001b[0;34m.\u001b[0m\u001b[0mget\u001b[0m\u001b[0;34m(\u001b[0m\u001b[0;34m'data'\u001b[0m\u001b[0;34m,\u001b[0m \u001b[0;32mNone\u001b[0m\u001b[0;34m)\u001b[0m\u001b[0;34m\u001b[0m\u001b[0;34m\u001b[0m\u001b[0m\n\u001b[1;32m    105\u001b[0m \u001b[0;34m\u001b[0m\u001b[0m\n",
            "\u001b[0;31mMessageError\u001b[0m: Error: credential propagation was unsuccessful"
          ]
        }
      ],
      "source": [
        "# @title Setup\n",
        "from google.colab import auth\n",
        "from google.cloud import bigquery\n",
        "from google.colab import data_table\n",
        "import numpy as np\n",
        "import pandas as pd\n",
        "from itertools import product\n",
        "\n",
        "project = 'efood2023-404109' # Project ID inserted based on the query results selected to explore\n",
        "location = 'EU' # Location inserted based on the query results selected to explore\n",
        "client = bigquery.Client(project=project, location=location)\n",
        "data_table.enable_dataframe_formatter()\n",
        "auth.authenticate_user()"
      ]
    },
    {
      "cell_type": "code",
      "source": [],
      "metadata": {
        "id": "YHUDjXFYPjCJ"
      },
      "execution_count": null,
      "outputs": []
    },
    {
      "cell_type": "code",
      "source": [],
      "metadata": {
        "id": "rb_clRzDPjSF"
      },
      "execution_count": null,
      "outputs": []
    },
    {
      "cell_type": "markdown",
      "metadata": {
        "id": "pj42soltXW_H"
      },
      "source": [
        "## Reference SQL syntax from the original job\n",
        "Use the ```jobs.query```\n",
        "[method](https://cloud.google.com/bigquery/docs/reference/rest/v2/jobs/query) to\n",
        "return the SQL syntax from the job. This can be copied from the output cell\n",
        "below to edit the query now or in the future. Alternatively, you can use\n",
        "[this link](https://console.cloud.google.com/bigquery?j=efood2023-404109:EU:bquxjob_4268ce04_18b9ad7f5ea)\n",
        "back to BigQuery to edit the query within the BigQuery user interface."
      ]
    },
    {
      "cell_type": "code",
      "execution_count": null,
      "metadata": {
        "id": "KxSqPfAeXW_K"
      },
      "outputs": [],
      "source": [
        "# Running this code will display the query used to generate your previous job\n",
        "\n",
        "job = client.get_job('bquxjob_1b334270_18ba011cc46') # Job ID inserted based on the query results selected to explore\n",
        "print(job.query)"
      ]
    },
    {
      "cell_type": "markdown",
      "metadata": {
        "id": "eY-wNOGO11ON"
      },
      "source": [
        "# Result set loaded from BigQuery job as a DataFrame\n",
        "Query results are referenced from the Job ID ran from BigQuery and the query\n",
        "does not need to be re-run to explore results. The ```to_dataframe```\n",
        "[method](https://googleapis.dev/python/bigquery/latest/generated/google.cloud.bigquery.job.QueryJob.html#google.cloud.bigquery.job.QueryJob.to_dataframe)\n",
        "downloads the results to a Pandas DataFrame by using the BigQuery Storage API.\n",
        "\n",
        "To edit query syntax, you can do so from the BigQuery SQL editor or in the\n",
        "```Optional:``` sections below."
      ]
    },
    {
      "cell_type": "markdown",
      "metadata": {
        "id": "84Ub57pbB6EN"
      },
      "source": [
        "## Show descriptive statistics using describe()\n",
        "Use the ```pandas DataFrame.describe()```\n",
        "[method](https://pandas.pydata.org/docs/reference/api/pandas.DataFrame.describe.html)\n",
        "to generate descriptive statistics. Descriptive statistics include those that\n",
        "summarize the central tendency, dispersion and shape of a dataset’s\n",
        "distribution, excluding ```NaN``` values. You may also use other Python methods\n",
        "to interact with your data."
      ]
    },
    {
      "cell_type": "code",
      "execution_count": null,
      "metadata": {
        "id": "bIw82qhuHWy0"
      },
      "outputs": [],
      "source": [
        "# Running this code will read results from your previous job\n",
        "\n",
        "job = client.get_job('bquxjob_1b334270_18ba011cc46') # Job ID inserted based on the query results selected to explore\n",
        "results_init = job.to_dataframe()"
      ]
    },
    {
      "cell_type": "code",
      "source": [
        "results_init[\"device\"].unique()"
      ],
      "metadata": {
        "id": "sREVZOVswR-K"
      },
      "execution_count": null,
      "outputs": []
    },
    {
      "cell_type": "code",
      "source": [
        "# Keep only the users who had took coupon in the past\n",
        "results = results_init\n",
        "results_init['order_timestamp_day'] = results_init['order_timestamp'].dt.day_of_year\n",
        "results_init['coupon_discount'] = results_init['coupon_discount_amount'] > 0\n",
        "users_with_coupon = list(results_init.loc[results_init['coupon_discount'].values, \"user_id\"].unique())\n",
        "results = results.set_index('user_id')\n",
        "target_coupon_results = results.loc[users_with_coupon,:]\n",
        "target_coupon_results = target_coupon_results.reset_index()"
      ],
      "metadata": {
        "id": "2pWd2za-1IuT"
      },
      "execution_count": null,
      "outputs": []
    },
    {
      "cell_type": "code",
      "source": [
        "coupon_effect = pd.pivot_table(target_coupon_results,\n",
        "                               index = [\"user_id\", \"order_timestamp_day\"],\n",
        "                               values = [\"order_id\", \"amount\", \"coupon_discount_amount\"],\n",
        "                               aggfunc= {\"order_id\": \"count\", \"amount\": [np.median, np.sum], \"coupon_discount_amount\": np.sum})\n",
        "coupon_effect.columns = ['amount_median', 'amount_sum', 'coupon_discount_amount_sum', 'order_id_count']"
      ],
      "metadata": {
        "id": "kBn5G-DR4NvW"
      },
      "execution_count": null,
      "outputs": []
    },
    {
      "cell_type": "code",
      "source": [
        "user_ids = coupon_effect.reset_index()['user_id'].unique()\n",
        "days_range = range(results_init['order_timestamp_day'].unique().min(), results_init['order_timestamp_day'].unique().max() + 1)\n",
        "\n",
        "df_index_user_id = [user_id for user_id in user_ids for _ in days_range]\n",
        "df_index_day     = [day for _ in user_ids for day in days_range]"
      ],
      "metadata": {
        "id": "9SwUAnfL4OH9"
      },
      "execution_count": null,
      "outputs": []
    },
    {
      "cell_type": "code",
      "source": [
        "extended_coupon_effect = pd.DataFrame(columns = coupon_effect.columns)\n",
        "extended_coupon_effect[\"user_id\"] = df_index_user_id\n",
        "extended_coupon_effect[\"order_timestamp_day\"] = df_index_day\n",
        "extended_coupon_effect = extended_coupon_effect.set_index([\"user_id\", \"order_timestamp_day\"])"
      ],
      "metadata": {
        "id": "JCZIShK5Hzqy"
      },
      "execution_count": null,
      "outputs": []
    },
    {
      "cell_type": "code",
      "source": [
        "extended_coupon_effect.loc[coupon_effect.index, ['amount_median', 'amount_sum', 'coupon_discount_amount_sum', 'order_id_count']] = coupon_effect[['amount_median', 'amount_sum', 'coupon_discount_amount_sum', 'order_id_count']]\n",
        "extended_coupon_effect = extended_coupon_effect.fillna(0)\n",
        "extended_coupon_effect[\"coupon event\"] = extended_coupon_effect['coupon_discount_amount_sum'] > 0"
      ],
      "metadata": {
        "id": "fR7zwCxJJ-Gg"
      },
      "execution_count": null,
      "outputs": []
    },
    {
      "cell_type": "code",
      "source": [
        "A = extended_coupon_effect.reset_index()\n",
        "events = A.loc[A[\"coupon event\"], [\"user_id\", \"order_timestamp_day\",\"coupon event\"]]\n",
        "\n",
        "coupon_case_bef_df = pd.DataFrame(columns = extended_coupon_effect.columns)\n",
        "coupon_case_after_df = pd.DataFrame(columns = extended_coupon_effect.columns)\n",
        "\n",
        "coupon_case = 0\n",
        "coupon_window = 3\n",
        "\n",
        "extended_coupon_effect[\"Aggr_coupon_team_bef\"] = np.nan\n",
        "extended_coupon_effect[\"Aggr_coupon_team_aft\"] = np.nan\n",
        "\n",
        "for index, row in events.iterrows():\n",
        "\n",
        "  user_id = row[\"user_id\"]\n",
        "  coupon_day = row[\"order_timestamp_day\"]\n",
        "\n",
        "  if (coupon_day - coupon_window  in range(results_init[\"order_timestamp_day\"].unique().min(), results_init[\"order_timestamp_day\"].unique().max()+1)) & ((coupon_day + coupon_window  in range(results_init[\"order_timestamp_day\"].unique().min(), results_init[\"order_timestamp_day\"].unique().max()+1))):\n",
        "\n",
        "    index_prev= []\n",
        "\n",
        "    for k in range(coupon_day - coupon_window, coupon_day):\n",
        "      index_prev.append([user_id, k])\n",
        "\n",
        "    index_after= []\n",
        "\n",
        "    for k in range(coupon_day + 1, coupon_day + coupon_window + 1):\n",
        "      index_after.append([user_id, k])\n",
        "\n",
        "    if (extended_coupon_effect.loc[index_prev, \"Aggr_coupon_team_bef\"].fillna(0).sum() == 0) & (extended_coupon_effect.loc[index_after, \"Aggr_coupon_team_aft\"].fillna(0).sum() == 0):\n",
        "      extended_coupon_effect.loc[index_prev, \"Aggr_coupon_team_bef\"] = coupon_case\n",
        "      extended_coupon_effect.loc[index_after, \"Aggr_coupon_team_aft\"] = coupon_case\n",
        "\n",
        "    coupon_case +=1\n",
        "\n"
      ],
      "metadata": {
        "id": "tNsIMBUlKqjG"
      },
      "execution_count": null,
      "outputs": []
    },
    {
      "cell_type": "code",
      "source": [
        "A1 = pd.pivot_table(extended_coupon_effect, index = \"Aggr_coupon_team_bef\", values= ['amount_median', \"order_id_count\"], aggfunc = {\"amount_median\":np.mean, \"order_id_count\": \"sum\"})\n",
        "A2 = pd.pivot_table(extended_coupon_effect, index = \"Aggr_coupon_team_aft\", values= ['amount_median', \"order_id_count\"], aggfunc = {\"amount_median\":np.mean, \"order_id_count\": \"sum\"})"
      ],
      "metadata": {
        "id": "YCeV6OSbbrn_"
      },
      "execution_count": null,
      "outputs": []
    },
    {
      "cell_type": "code",
      "source": [
        "A1.columns\n",
        "diffs = A2 - A1\n",
        "diffs.describe()"
      ],
      "metadata": {
        "id": "OvhLFU_qckEi"
      },
      "execution_count": null,
      "outputs": []
    },
    {
      "cell_type": "code",
      "source": [
        "# Running this code will read results from your previous job\n",
        "\n",
        "job = client.get_job('bquxjob_1b334270_18ba011cc46') # Job ID inserted based on the query results selected to explore\n",
        "results_init = job.to_dataframe()\n",
        "\n",
        "for i in results_init['user_class_name'].unique():\n",
        "\n",
        "  results_init = job.to_dataframe()\n",
        "  results_init = results_init[results_init['user_class_name'] == i ]\n",
        "\n",
        "  results = results_init\n",
        "  # Keep only the users who had took coupon in the past\n",
        "  results_init['order_timestamp_day'] = results_init['order_timestamp'].dt.day_of_year\n",
        "  results_init['coupon_discount'] = results_init['coupon_discount_amount'] > 0\n",
        "  users_with_coupon = list(results_init.loc[results_init['coupon_discount'].values, \"user_id\"].unique())\n",
        "  results = results.set_index('user_id')\n",
        "  target_coupon_results = results.loc[users_with_coupon,:]\n",
        "  target_coupon_results = target_coupon_results.reset_index()\n",
        "\n",
        "  coupon_effect = pd.pivot_table(target_coupon_results,\n",
        "                                index = [\"user_id\", \"order_timestamp_day\"],\n",
        "                                values = [\"order_id\", \"amount\", \"coupon_discount_amount\"],\n",
        "                                aggfunc= {\"order_id\": \"count\", \"amount\": [np.median, np.sum],\"coupon_discount_amount\": np.sum})\n",
        "  coupon_effect.columns = ['amount_median', 'amount_sum', 'coupon_discount_amount_sum', 'order_id_count']\n",
        "\n",
        "  user_ids = coupon_effect.reset_index()['user_id'].unique()\n",
        "  days_range = range(results_init['order_timestamp_day'].unique().min(), results_init['order_timestamp_day'].unique().max() + 1)\n",
        "\n",
        "  df_index_user_id = [user_id for user_id in user_ids for _ in days_range]\n",
        "  df_index_day = [day for _ in user_ids for day in days_range]\n",
        "\n",
        "  extended_coupon_effect =pd.DataFrame(columns = coupon_effect.columns)\n",
        "  extended_coupon_effect[\"user_id\"] = df_index_user_id\n",
        "  extended_coupon_effect[\"order_timestamp_day\"] = df_index_day\n",
        "  extended_coupon_effect = extended_coupon_effect.set_index([\"user_id\", \"order_timestamp_day\"])\n",
        "\n",
        "  extended_coupon_effect.loc[coupon_effect.index, ['amount_median', 'amount_sum', 'coupon_discount_amount_sum', 'order_id_count']] = coupon_effect[['amount_median', 'amount_sum', 'coupon_discount_amount_sum', 'order_id_count']]\n",
        "  extended_coupon_effect = extended_coupon_effect.fillna(0)\n",
        "  extended_coupon_effect[\"coupon event\"] = extended_coupon_effect['coupon_discount_amount_sum'] > 0\n",
        "\n",
        "  A = extended_coupon_effect.reset_index()\n",
        "  events = A.loc[A[\"coupon event\"], [\"user_id\", \"order_timestamp_day\",\"coupon event\"]]\n",
        "\n",
        "  coupon_case_bef_df = pd.DataFrame(columns = extended_coupon_effect.columns)\n",
        "  coupon_case_after_df = pd.DataFrame(columns = extended_coupon_effect.columns)\n",
        "\n",
        "  coupon_case = 0\n",
        "  coupon_window = 3\n",
        "\n",
        "  extended_coupon_effect[\"Aggr_coupon_team_bef\"] = np.nan\n",
        "  extended_coupon_effect[\"Aggr_coupon_team_aft\"] = np.nan\n",
        "\n",
        "  for index, row in events.iterrows():\n",
        "\n",
        "    user_id = row[\"user_id\"]\n",
        "    coupon_day = row[\"order_timestamp_day\"]\n",
        "\n",
        "    if (coupon_day - coupon_window  in range(results_init[\"order_timestamp_day\"].unique().min(), results_init[\"order_timestamp_day\"].unique().max()+1)) & ((coupon_day + coupon_window  in range(results_init[\"order_timestamp_day\"].unique().min(), results_init[\"order_timestamp_day\"].unique().max()+1))):\n",
        "\n",
        "      index_prev= []\n",
        "\n",
        "      for k in range(coupon_day - coupon_window, coupon_day):\n",
        "        index_prev.append([user_id, k])\n",
        "\n",
        "      index_after= []\n",
        "\n",
        "      for k in range(coupon_day + 1, coupon_day + coupon_window + 1):\n",
        "        index_after.append([user_id, k])\n",
        "\n",
        "      if (extended_coupon_effect.loc[index_prev, \"Aggr_coupon_team_bef\"].fillna(0).sum() == 0) & (extended_coupon_effect.loc[index_after, \"Aggr_coupon_team_aft\"].fillna(0).sum() == 0):\n",
        "        extended_coupon_effect.loc[index_prev, \"Aggr_coupon_team_bef\"] = coupon_case\n",
        "        extended_coupon_effect.loc[index_after, \"Aggr_coupon_team_aft\"] = coupon_case\n",
        "\n",
        "      coupon_case +=1\n",
        "\n",
        "  A1 = pd.pivot_table(extended_coupon_effect, index = \"Aggr_coupon_team_bef\", values= ['amount_median', \"order_id_count\"], aggfunc = {\"amount_median\":np.mean, \"order_id_count\": \"sum\"})\n",
        "  A2 = pd.pivot_table(extended_coupon_effect, index = \"Aggr_coupon_team_aft\", values= ['amount_median', \"order_id_count\"], aggfunc = {\"amount_median\":np.mean, \"order_id_count\": \"sum\"})\n",
        "\n",
        "\n",
        "  diffs = A2 - A1\n",
        "  print(i)\n",
        "\n",
        "  print(diffs.describe())\n",
        "  print(\"----------------------------------------------------------------\")\n"
      ],
      "metadata": {
        "id": "-0bRomNvcmm4"
      },
      "execution_count": null,
      "outputs": []
    },
    {
      "cell_type": "code",
      "source": [
        "# Running this code will read results from your previous job\n",
        "\n",
        "job = client.get_job('bquxjob_1b334270_18ba011cc46') # Job ID inserted based on the query results selected to explore\n",
        "results_init = job.to_dataframe()\n",
        "mask = (results_init[\"user_class_name\"] == \"Infrequent\") | (results_init[\"user_class_name\"] == \"Common User\") | (results_init[\"user_class_name\"] == \"High Spenders\")\n",
        "results_init = results_init[mask]\n",
        "\n",
        "for i in results_init['city'].unique():\n",
        "\n",
        "  results_init = job.to_dataframe()\n",
        "  mask = (results_init[\"user_class_name\"] == \"Infrequent\") | (results_init[\"user_class_name\"] == \"Common User\") | (results_init[\"user_class_name\"] == \"High Spenders\")\n",
        "  results_init = results_init[mask]\n",
        "  results_init = results_init[results_init['city'] == i ]\n",
        "\n",
        "  results = results_init\n",
        "  # Keep only the users who had took coupon in the past\n",
        "  results_init['order_timestamp_day'] = results_init['order_timestamp'].dt.day_of_year\n",
        "  results_init['coupon_discount'] = results_init['coupon_discount_amount'] > 0\n",
        "  users_with_coupon = list(results_init.loc[results_init['coupon_discount'].values, \"user_id\"].unique())\n",
        "  results = results.set_index('user_id')\n",
        "  target_coupon_results = results.loc[users_with_coupon,:]\n",
        "  target_coupon_results = target_coupon_results.reset_index()\n",
        "\n",
        "  coupon_effect = pd.pivot_table(target_coupon_results,\n",
        "                                index = [\"user_id\", \"order_timestamp_day\"],\n",
        "                                values = [\"order_id\", \"amount\", \"coupon_discount_amount\"],\n",
        "                                aggfunc= {\"order_id\": \"count\", \"amount\": [np.median, np.sum],\"coupon_discount_amount\": np.sum})\n",
        "  coupon_effect.columns = ['amount_median', 'amount_sum', 'coupon_discount_amount_sum', 'order_id_count']\n",
        "\n",
        "  user_ids = coupon_effect.reset_index()['user_id'].unique()\n",
        "  days_range = range(results_init['order_timestamp_day'].unique().min(), results_init['order_timestamp_day'].unique().max() + 1)\n",
        "\n",
        "  df_index_user_id = [user_id for user_id in user_ids for _ in days_range]\n",
        "  df_index_day = [day for _ in user_ids for day in days_range]\n",
        "\n",
        "  extended_coupon_effect =pd.DataFrame(columns = coupon_effect.columns)\n",
        "  extended_coupon_effect[\"user_id\"] = df_index_user_id\n",
        "  extended_coupon_effect[\"order_timestamp_day\"] = df_index_day\n",
        "  extended_coupon_effect = extended_coupon_effect.set_index([\"user_id\", \"order_timestamp_day\"])\n",
        "\n",
        "  extended_coupon_effect.loc[coupon_effect.index, ['amount_median', 'amount_sum', 'coupon_discount_amount_sum', 'order_id_count']] = coupon_effect[['amount_median', 'amount_sum', 'coupon_discount_amount_sum', 'order_id_count']]\n",
        "  extended_coupon_effect = extended_coupon_effect.fillna(0)\n",
        "  extended_coupon_effect[\"coupon event\"] = extended_coupon_effect['coupon_discount_amount_sum'] > 0\n",
        "\n",
        "  A = extended_coupon_effect.reset_index()\n",
        "  events = A.loc[A[\"coupon event\"], [\"user_id\", \"order_timestamp_day\",\"coupon event\"]]\n",
        "\n",
        "  coupon_case_bef_df = pd.DataFrame(columns = extended_coupon_effect.columns)\n",
        "  coupon_case_after_df = pd.DataFrame(columns = extended_coupon_effect.columns)\n",
        "\n",
        "  coupon_case = 0\n",
        "  coupon_window = 3\n",
        "\n",
        "  extended_coupon_effect[\"Aggr_coupon_team_bef\"] = np.nan\n",
        "  extended_coupon_effect[\"Aggr_coupon_team_aft\"] = np.nan\n",
        "\n",
        "  for index, row in events.iterrows():\n",
        "\n",
        "    user_id = row[\"user_id\"]\n",
        "    coupon_day = row[\"order_timestamp_day\"]\n",
        "\n",
        "    if (coupon_day - coupon_window  in range(results_init[\"order_timestamp_day\"].unique().min(), results_init[\"order_timestamp_day\"].unique().max()+1)) & ((coupon_day + coupon_window  in range(results_init[\"order_timestamp_day\"].unique().min(), results_init[\"order_timestamp_day\"].unique().max()+1))):\n",
        "\n",
        "      index_prev= []\n",
        "\n",
        "      for k in range(coupon_day - coupon_window, coupon_day):\n",
        "        index_prev.append([user_id, k])\n",
        "\n",
        "      index_after= []\n",
        "\n",
        "      for k in range(coupon_day + 1, coupon_day + coupon_window + 1):\n",
        "        index_after.append([user_id, k])\n",
        "\n",
        "      if (extended_coupon_effect.loc[index_prev, \"Aggr_coupon_team_bef\"].fillna(0).sum() == 0) & (extended_coupon_effect.loc[index_after, \"Aggr_coupon_team_aft\"].fillna(0).sum() == 0):\n",
        "        extended_coupon_effect.loc[index_prev, \"Aggr_coupon_team_bef\"] = coupon_case\n",
        "        extended_coupon_effect.loc[index_after, \"Aggr_coupon_team_aft\"] = coupon_case\n",
        "\n",
        "      coupon_case +=1\n",
        "\n",
        "  A1 = pd.pivot_table(extended_coupon_effect, index = \"Aggr_coupon_team_bef\", values= ['amount_median', \"order_id_count\"], aggfunc = {\"amount_median\":np.mean, \"order_id_count\": \"sum\"})\n",
        "  A2 = pd.pivot_table(extended_coupon_effect, index = \"Aggr_coupon_team_aft\", values= ['amount_median', \"order_id_count\"], aggfunc = {\"amount_median\":np.mean, \"order_id_count\": \"sum\"})\n",
        "\n",
        "  A1.columns\n",
        "  diffs = A2 - A1\n",
        "  print(i)\n",
        "  print(diffs.describe())\n",
        "  print(\"----------------------------------------------------------------\")"
      ],
      "metadata": {
        "id": "8JBcXAfeQBtk"
      },
      "execution_count": null,
      "outputs": []
    },
    {
      "cell_type": "code",
      "source": [
        "# Running this code will read results from your previous job\n",
        "\n",
        "job = client.get_job('bquxjob_1b334270_18ba011cc46') # Job ID inserted based on the query results selected to explore\n",
        "results_init = job.to_dataframe()\n",
        "mask = (results_init[\"user_class_name\"] == \"Infrequent\") | (results_init[\"user_class_name\"] == \"Common User\") | (results_init[\"user_class_name\"] == \"High Spenders\")\n",
        "results_init = results_init[mask]\n",
        "mask2 = (results_init[\"device\"] != \"Android\")\n",
        "results_init.loc[mask2, \"device\"] = \"Not Android\"\n",
        "\n",
        "for i in results_init['device'].unique():\n",
        "\n",
        "  results_init = job.to_dataframe()\n",
        "  mask = (results_init[\"user_class_name\"] == \"Infrequent\") | (results_init[\"user_class_name\"] == \"Common User\") | (results_init[\"user_class_name\"] == \"High Spenders\")\n",
        "  results_init = results_init[mask]\n",
        "  mask2 = (results_init[\"device\"] != \"Android\")\n",
        "  results_init.loc[mask2, \"device\"] = \"Not Android\"\n",
        "  results_init = results_init[results_init['device'] == i ]\n",
        "\n",
        "  results = results_init\n",
        "  # Keep only the users who had took coupon in the past\n",
        "  results_init['order_timestamp_day'] = results_init['order_timestamp'].dt.day_of_year\n",
        "  results_init['coupon_discount'] = results_init['coupon_discount_amount'] > 0\n",
        "  users_with_coupon = list(results_init.loc[results_init['coupon_discount'].values, \"user_id\"].unique())\n",
        "  results = results.set_index('user_id')\n",
        "  target_coupon_results = results.loc[users_with_coupon,:]\n",
        "  target_coupon_results = target_coupon_results.reset_index()\n",
        "\n",
        "  coupon_effect = pd.pivot_table(target_coupon_results,\n",
        "                                index = [\"user_id\", \"order_timestamp_day\"],\n",
        "                                values = [\"order_id\", \"amount\", \"coupon_discount_amount\"],\n",
        "                                aggfunc= {\"order_id\": \"count\", \"amount\": [np.median, np.sum],\"coupon_discount_amount\": np.sum})\n",
        "  coupon_effect.columns = ['amount_median', 'amount_sum', 'coupon_discount_amount_sum', 'order_id_count']\n",
        "\n",
        "  user_ids = coupon_effect.reset_index()['user_id'].unique()\n",
        "  days_range = range(results_init['order_timestamp_day'].unique().min(), results_init['order_timestamp_day'].unique().max() + 1)\n",
        "\n",
        "  df_index_user_id = [user_id for user_id in user_ids for _ in days_range]\n",
        "  df_index_day = [day for _ in user_ids for day in days_range]\n",
        "\n",
        "  extended_coupon_effect =pd.DataFrame(columns = coupon_effect.columns)\n",
        "  extended_coupon_effect[\"user_id\"] = df_index_user_id\n",
        "  extended_coupon_effect[\"order_timestamp_day\"] = df_index_day\n",
        "  extended_coupon_effect = extended_coupon_effect.set_index([\"user_id\", \"order_timestamp_day\"])\n",
        "\n",
        "  extended_coupon_effect.loc[coupon_effect.index, ['amount_median', 'amount_sum', 'coupon_discount_amount_sum', 'order_id_count']] = coupon_effect[['amount_median', 'amount_sum', 'coupon_discount_amount_sum', 'order_id_count']]\n",
        "  extended_coupon_effect = extended_coupon_effect.fillna(0)\n",
        "  extended_coupon_effect[\"coupon event\"] = extended_coupon_effect['coupon_discount_amount_sum'] > 0\n",
        "\n",
        "  A = extended_coupon_effect.reset_index()\n",
        "  events = A.loc[A[\"coupon event\"], [\"user_id\", \"order_timestamp_day\",\"coupon event\"]]\n",
        "\n",
        "  coupon_case_bef_df = pd.DataFrame(columns = extended_coupon_effect.columns)\n",
        "  coupon_case_after_df = pd.DataFrame(columns = extended_coupon_effect.columns)\n",
        "\n",
        "  coupon_case = 0\n",
        "  coupon_window = 3\n",
        "\n",
        "  extended_coupon_effect[\"Aggr_coupon_team_bef\"] = np.nan\n",
        "  extended_coupon_effect[\"Aggr_coupon_team_aft\"] = np.nan\n",
        "\n",
        "  for index, row in events.iterrows():\n",
        "\n",
        "    user_id = row[\"user_id\"]\n",
        "    coupon_day = row[\"order_timestamp_day\"]\n",
        "\n",
        "    if (coupon_day - coupon_window  in range(results_init[\"order_timestamp_day\"].unique().min(), results_init[\"order_timestamp_day\"].unique().max()+1)) & ((coupon_day + coupon_window  in range(results_init[\"order_timestamp_day\"].unique().min(), results_init[\"order_timestamp_day\"].unique().max()+1))):\n",
        "\n",
        "      index_prev= []\n",
        "\n",
        "      for k in range(coupon_day - coupon_window, coupon_day):\n",
        "        index_prev.append([user_id, k])\n",
        "\n",
        "      index_after= []\n",
        "\n",
        "      for k in range(coupon_day + 1, coupon_day + coupon_window + 1):\n",
        "        index_after.append([user_id, k])\n",
        "\n",
        "      if (extended_coupon_effect.loc[index_prev, \"Aggr_coupon_team_bef\"].fillna(0).sum() == 0) & (extended_coupon_effect.loc[index_after, \"Aggr_coupon_team_aft\"].fillna(0).sum() == 0):\n",
        "        extended_coupon_effect.loc[index_prev, \"Aggr_coupon_team_bef\"] = coupon_case\n",
        "        extended_coupon_effect.loc[index_after, \"Aggr_coupon_team_aft\"] = coupon_case\n",
        "\n",
        "      coupon_case +=1\n",
        "\n",
        "  A1 = pd.pivot_table(extended_coupon_effect, index = \"Aggr_coupon_team_bef\", values= ['amount_median', \"order_id_count\"], aggfunc = {\"amount_median\":np.mean, \"order_id_count\": \"sum\"})\n",
        "  A2 = pd.pivot_table(extended_coupon_effect, index = \"Aggr_coupon_team_aft\", values= ['amount_median', \"order_id_count\"], aggfunc = {\"amount_median\":np.mean, \"order_id_count\": \"sum\"})\n",
        "\n",
        "  A1.columns\n",
        "  diffs = A2 - A1\n",
        "  print(i)\n",
        "  print(diffs.describe())\n",
        "  print(\"----------------------------------------------------------------\")"
      ],
      "metadata": {
        "id": "VmsL03ZUVdq8"
      },
      "execution_count": null,
      "outputs": []
    },
    {
      "cell_type": "code",
      "source": [
        "# Running this code will read results from your previous job\n",
        "\n",
        "job = client.get_job('bquxjob_1b334270_18ba011cc46') # Job ID inserted based on the query results selected to explore\n",
        "results_init = job.to_dataframe()\n",
        "mask = (results_init[\"user_class_name\"] == \"Infrequent\") | (results_init[\"user_class_name\"] == \"Common User\") | (results_init[\"user_class_name\"] == \"High Spenders\")\n",
        "results_init = results_init[mask]\n",
        "\n",
        "for i in results_init['paid_cash'].unique():\n",
        "\n",
        "  results_init = job.to_dataframe()\n",
        "  mask = (results_init[\"user_class_name\"] == \"Infrequent\") | (results_init[\"user_class_name\"] == \"Common User\") | (results_init[\"user_class_name\"] == \"High Spenders\")\n",
        "  results_init = results_init[mask]\n",
        "  results_init = results_init[results_init['paid_cash'] == i]\n",
        "\n",
        "  results = results_init\n",
        "  # Keep only the users who had took coupon in the past\n",
        "  results_init['order_timestamp_day'] = results_init['order_timestamp'].dt.day_of_year\n",
        "  results_init['coupon_discount'] = results_init['coupon_discount_amount'] > 0\n",
        "  users_with_coupon = list(results_init.loc[results_init['coupon_discount'].values, \"user_id\"].unique())\n",
        "  results = results.set_index('user_id')\n",
        "  target_coupon_results = results.loc[users_with_coupon,:]\n",
        "  target_coupon_results = target_coupon_results.reset_index()\n",
        "\n",
        "  coupon_effect = pd.pivot_table(target_coupon_results,\n",
        "                                index = [\"user_id\", \"order_timestamp_day\"],\n",
        "                                values = [\"order_id\", \"amount\", \"coupon_discount_amount\"],\n",
        "                                aggfunc= {\"order_id\": \"count\", \"amount\": [np.median, np.sum],\"coupon_discount_amount\": np.sum})\n",
        "  coupon_effect.columns = ['amount_median', 'amount_sum', 'coupon_discount_amount_sum', 'order_id_count']\n",
        "\n",
        "  user_ids = coupon_effect.reset_index()['user_id'].unique()\n",
        "  days_range = range(results_init['order_timestamp_day'].unique().min(), results_init['order_timestamp_day'].unique().max() + 1)\n",
        "\n",
        "  df_index_user_id = [user_id for user_id in user_ids for _ in days_range]\n",
        "  df_index_day = [day for _ in user_ids for day in days_range]\n",
        "\n",
        "  extended_coupon_effect =pd.DataFrame(columns = coupon_effect.columns)\n",
        "  extended_coupon_effect[\"user_id\"] = df_index_user_id\n",
        "  extended_coupon_effect[\"order_timestamp_day\"] = df_index_day\n",
        "  extended_coupon_effect = extended_coupon_effect.set_index([\"user_id\", \"order_timestamp_day\"])\n",
        "\n",
        "  extended_coupon_effect.loc[coupon_effect.index, ['amount_median', 'amount_sum', 'coupon_discount_amount_sum', 'order_id_count']] = coupon_effect[['amount_median', 'amount_sum', 'coupon_discount_amount_sum', 'order_id_count']]\n",
        "  extended_coupon_effect = extended_coupon_effect.fillna(0)\n",
        "  extended_coupon_effect[\"coupon event\"] = extended_coupon_effect['coupon_discount_amount_sum'] > 0\n",
        "\n",
        "  A = extended_coupon_effect.reset_index()\n",
        "  events = A.loc[A[\"coupon event\"], [\"user_id\", \"order_timestamp_day\",\"coupon event\"]]\n",
        "\n",
        "  coupon_case_bef_df = pd.DataFrame(columns = extended_coupon_effect.columns)\n",
        "  coupon_case_after_df = pd.DataFrame(columns = extended_coupon_effect.columns)\n",
        "\n",
        "  coupon_case = 0\n",
        "  coupon_window = 3\n",
        "\n",
        "  extended_coupon_effect[\"Aggr_coupon_team_bef\"] = np.nan\n",
        "  extended_coupon_effect[\"Aggr_coupon_team_aft\"] = np.nan\n",
        "\n",
        "  for index, row in events.iterrows():\n",
        "\n",
        "    user_id = row[\"user_id\"]\n",
        "    coupon_day = row[\"order_timestamp_day\"]\n",
        "\n",
        "    if (coupon_day - coupon_window  in range(results_init[\"order_timestamp_day\"].unique().min(), results_init[\"order_timestamp_day\"].unique().max()+1)) & ((coupon_day + coupon_window  in range(results_init[\"order_timestamp_day\"].unique().min(), results_init[\"order_timestamp_day\"].unique().max()+1))):\n",
        "\n",
        "      index_prev= []\n",
        "\n",
        "      for k in range(coupon_day - coupon_window, coupon_day):\n",
        "        index_prev.append([user_id, k])\n",
        "\n",
        "      index_after= []\n",
        "\n",
        "      for k in range(coupon_day + 1, coupon_day + coupon_window + 1):\n",
        "        index_after.append([user_id, k])\n",
        "\n",
        "      if (extended_coupon_effect.loc[index_prev, \"Aggr_coupon_team_bef\"].fillna(0).sum() == 0) & (extended_coupon_effect.loc[index_after, \"Aggr_coupon_team_aft\"].fillna(0).sum() == 0):\n",
        "        extended_coupon_effect.loc[index_prev, \"Aggr_coupon_team_bef\"] = coupon_case\n",
        "        extended_coupon_effect.loc[index_after, \"Aggr_coupon_team_aft\"] = coupon_case\n",
        "\n",
        "      coupon_case +=1\n",
        "\n",
        "  A1 = pd.pivot_table(extended_coupon_effect, index = \"Aggr_coupon_team_bef\", values= ['amount_median', \"order_id_count\"], aggfunc = {\"amount_median\":np.mean, \"order_id_count\": \"sum\"})\n",
        "  A2 = pd.pivot_table(extended_coupon_effect, index = \"Aggr_coupon_team_aft\", values= ['amount_median', \"order_id_count\"], aggfunc = {\"amount_median\":np.mean, \"order_id_count\": \"sum\"})\n",
        "\n",
        "  A1.columns\n",
        "  diffs = A2 - A1\n",
        "  print(i)\n",
        "  print(diffs.describe())\n",
        "  print(\"----------------------------------------------------------------\")"
      ],
      "metadata": {
        "id": "GUTcNMNNWE5j"
      },
      "execution_count": null,
      "outputs": []
    }
  ],
  "metadata": {
    "colab": {
      "cell_execution_strategy": "setup",
      "name": "BigQuery bquxjob_4268ce04_18b9ad7f5ea",
      "provenance": [],
      "include_colab_link": true
    },
    "kernelspec": {
      "display_name": "Python 3",
      "name": "python3"
    },
    "language_info": {
      "name": "python"
    }
  },
  "nbformat": 4,
  "nbformat_minor": 0
}